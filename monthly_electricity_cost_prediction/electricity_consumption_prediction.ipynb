{
  "cells": [
    {
      "cell_type": "markdown",
      "source": [
        "# Предсказание потребления электроэнергии в зависимости от плана производства"
      ],
      "metadata": {
        "id": "89NLQzWv29OQ"
      }
    },
    {
      "cell_type": "markdown",
      "source": [
        "## Загрузка библиотек"
      ],
      "metadata": {
        "id": "l0ZChxug2qZh"
      }
    },
    {
      "cell_type": "code",
      "execution_count": null,
      "metadata": {
        "id": "a4srgqsdP1VQ"
      },
      "outputs": [],
      "source": [
        "import pandas as pd\n",
        "import numpy as np\n",
        "import matplotlib.pyplot as plt\n",
        "from matplotlib.ticker import FormatStrFormatter\n",
        "from sklearn.metrics import mean_absolute_error\n",
        "from sklearn.multioutput import MultiOutputRegressor\n",
        "from sklearn.linear_model import LinearRegression"
      ]
    },
    {
      "cell_type": "markdown",
      "source": [
        "## Вспомогательные функции"
      ],
      "metadata": {
        "id": "COYR_ZHo20t9"
      }
    },
    {
      "cell_type": "markdown",
      "source": [
        "`mape` - функция для расчета средней абсолютной ошибки в процентах."
      ],
      "metadata": {
        "id": "Aa4IHtjpkUci"
      }
    },
    {
      "cell_type": "code",
      "execution_count": null,
      "metadata": {
        "id": "NNIrVUP4P1VY"
      },
      "outputs": [],
      "source": [
        "def mape(y_target, y_pred):\n",
        "    return np.mean(np.abs(y_target - y_pred) / y_target)"
      ]
    },
    {
      "cell_type": "markdown",
      "source": [
        "`pv_fact_plan` - функция для создания столбца с фактическим (для обучения) и плановым (для предсказания) объемом производства, где: \n",
        "- `n_pred` - количество месяцев для предсказания."
      ],
      "metadata": {
        "id": "xXMte-k579ZS"
      }
    },
    {
      "cell_type": "code",
      "source": [
        "def pv_fact_plan(X, n_pred):\n",
        "    pv_fact = X[['pv_fact']].iloc[: -n_pred].rename(columns={'pv_fact': 'pv'})\n",
        "    pv_plan = X[['pv_plan']].iloc[-n_pred :].rename(columns={'pv_plan': 'pv'})\n",
        "    \n",
        "    return pd.concat([pv_fact, pv_plan]).join(features, how='left').astype('int').drop(columns=['pv_fact', 'pv_plan'])"
      ],
      "metadata": {
        "id": "aXcPAc8HajRJ"
      },
      "execution_count": null,
      "outputs": []
    },
    {
      "cell_type": "markdown",
      "source": [
        "`data_split` - функция для разделения данных на обучающую и предсказательную (тестовую) выборки, где:\n",
        "- `n_pred` - количество месяцев для предсказания;\n",
        "- `n_train` - количество  месяцев для обучения."
      ],
      "metadata": {
        "id": "ycGct5SOk3EQ"
      }
    },
    {
      "cell_type": "code",
      "execution_count": null,
      "metadata": {
        "id": "hsaPQSL9P1Va"
      },
      "outputs": [],
      "source": [
        "def data_split(X, y, n_pred, n_train = 24):\n",
        "    # обучающая выборка размером 'n_train' с учетом сдвига на величину 'n_pred'     \n",
        "    X_train = X.iloc[-(n_pred + n_train): -n_pred]\n",
        "    y_train = y.iloc[-(n_pred + n_train): -n_pred]\n",
        "    \n",
        "    # предсказательная (тестовая) выборка размером 'n_pred'     \n",
        "    X_pred = X.iloc[-n_pred:]\n",
        "    y_pred = y.iloc[-n_pred:]\n",
        "    \n",
        "    return X_train, y_train, X_pred, y_pred"
      ]
    },
    {
      "cell_type": "markdown",
      "source": [
        "`consumption_predict` - мульти-регрессионная функция для предсказания общего и фабричного потребления электроэнергии, где:\n",
        "- `n_pred` - количество месяцев для предсказания:\n",
        "- `only_pv_plan` - способ формирования столбца с объемом производства (`True` - использовать только плановые значения, `False` - использовать для обучения фактические значения, для предсказания плановые).      "
      ],
      "metadata": {
        "id": "XS1K-0F6qkJy"
      }
    },
    {
      "cell_type": "code",
      "source": [
        "def consumption_predict(model, X, y, n_pred, only_pv_plan):\n",
        "    if only_pv_plan:\n",
        "        X_mod = X.drop(columns='pv_fact')   \n",
        "    else:\n",
        "        X_mod = pv_fact_plan(X, n_pred)\n",
        "    \n",
        "    X_train, y_train, X_pred, y_pred = data_split(X_mod, y, n_pred)\n",
        "    regr = MultiOutputRegressor(model).fit(X_train, y_train)    \n",
        "    preds = regr.predict(X_pred).astype(int)\n",
        "    \n",
        "    return pd.DataFrame(data=preds, columns=['Общее', 'Вафельное'], index=list(X_pred.index))"
      ],
      "metadata": {
        "id": "YprjjRypZfFW"
      },
      "execution_count": null,
      "outputs": []
    },
    {
      "cell_type": "markdown",
      "source": [
        "## Загрузка и подготовка данных"
      ],
      "metadata": {
        "id": "dqp_ZadS2TrV"
      }
    },
    {
      "cell_type": "code",
      "execution_count": null,
      "metadata": {
        "id": "amRGgnMAP1Vg"
      },
      "outputs": [],
      "source": [
        "data = 'electricity_consumption.xlsx'\n",
        "df = pd.read_excel(data, sheet_name='data', index_col='period', parse_dates=True)\n",
        "\n",
        "df.index = df.index.to_period('M')"
      ]
    },
    {
      "cell_type": "code",
      "execution_count": null,
      "metadata": {
        "id": "BqenS7XCP1Vh"
      },
      "outputs": [],
      "source": [
        "features_labels = ['pv_fact', 'pv_plan', 'month_1', 'month_2', 'month_3', 'month_4', 'month_5', 'month_6', \n",
        "                   'month_7', 'month_8', 'month_9', 'month_10', 'month_11', 'month_12']\n",
        "\n",
        "target_labels = ['total','waffle']\n",
        "\n",
        "features = df[features_labels]\n",
        "\n",
        "target = df[target_labels]"
      ]
    },
    {
      "cell_type": "markdown",
      "source": [
        "## Предсказание"
      ],
      "metadata": {
        "id": "BYxbm6wO3WHW"
      }
    },
    {
      "cell_type": "code",
      "execution_count": null,
      "metadata": {
        "id": "Tzg7xUobP1Vj"
      },
      "outputs": [],
      "source": [
        "LR = LinearRegression()"
      ]
    },
    {
      "cell_type": "code",
      "execution_count": null,
      "metadata": {
        "colab": {
          "base_uri": "https://localhost:8080/",
          "height": 457
        },
        "id": "RvL4QXylP1Vk",
        "outputId": "e0eaa783-342d-4abd-9922-47604a9c5c21"
      },
      "outputs": [
        {
          "output_type": "execute_result",
          "data": {
            "text/plain": [
              "           Общее  Вафельное\n",
              "2022-12   631142      27415\n",
              "2023-01   611802      17760\n",
              "2023-02   733510      26274\n",
              "2023-03  1101003      31824\n",
              "2023-04  1248416      40878\n",
              "2023-05  1443844      47102\n",
              "2023-06  1385450      73336\n",
              "2023-07  1259056      42943\n",
              "2023-08   994330      44888\n",
              "2023-09   953690      40068\n",
              "2023-10   224088       8301\n",
              "2023-11   650942      21729\n",
              "2023-12   595835      26347"
            ],
            "text/html": [
              "\n",
              "  <div id=\"df-87050007-5740-41c6-a25e-b39b08a19f02\">\n",
              "    <div class=\"colab-df-container\">\n",
              "      <div>\n",
              "<style scoped>\n",
              "    .dataframe tbody tr th:only-of-type {\n",
              "        vertical-align: middle;\n",
              "    }\n",
              "\n",
              "    .dataframe tbody tr th {\n",
              "        vertical-align: top;\n",
              "    }\n",
              "\n",
              "    .dataframe thead th {\n",
              "        text-align: right;\n",
              "    }\n",
              "</style>\n",
              "<table border=\"1\" class=\"dataframe\">\n",
              "  <thead>\n",
              "    <tr style=\"text-align: right;\">\n",
              "      <th></th>\n",
              "      <th>Общее</th>\n",
              "      <th>Вафельное</th>\n",
              "    </tr>\n",
              "  </thead>\n",
              "  <tbody>\n",
              "    <tr>\n",
              "      <th>2022-12</th>\n",
              "      <td>631142</td>\n",
              "      <td>27415</td>\n",
              "    </tr>\n",
              "    <tr>\n",
              "      <th>2023-01</th>\n",
              "      <td>611802</td>\n",
              "      <td>17760</td>\n",
              "    </tr>\n",
              "    <tr>\n",
              "      <th>2023-02</th>\n",
              "      <td>733510</td>\n",
              "      <td>26274</td>\n",
              "    </tr>\n",
              "    <tr>\n",
              "      <th>2023-03</th>\n",
              "      <td>1101003</td>\n",
              "      <td>31824</td>\n",
              "    </tr>\n",
              "    <tr>\n",
              "      <th>2023-04</th>\n",
              "      <td>1248416</td>\n",
              "      <td>40878</td>\n",
              "    </tr>\n",
              "    <tr>\n",
              "      <th>2023-05</th>\n",
              "      <td>1443844</td>\n",
              "      <td>47102</td>\n",
              "    </tr>\n",
              "    <tr>\n",
              "      <th>2023-06</th>\n",
              "      <td>1385450</td>\n",
              "      <td>73336</td>\n",
              "    </tr>\n",
              "    <tr>\n",
              "      <th>2023-07</th>\n",
              "      <td>1259056</td>\n",
              "      <td>42943</td>\n",
              "    </tr>\n",
              "    <tr>\n",
              "      <th>2023-08</th>\n",
              "      <td>994330</td>\n",
              "      <td>44888</td>\n",
              "    </tr>\n",
              "    <tr>\n",
              "      <th>2023-09</th>\n",
              "      <td>953690</td>\n",
              "      <td>40068</td>\n",
              "    </tr>\n",
              "    <tr>\n",
              "      <th>2023-10</th>\n",
              "      <td>224088</td>\n",
              "      <td>8301</td>\n",
              "    </tr>\n",
              "    <tr>\n",
              "      <th>2023-11</th>\n",
              "      <td>650942</td>\n",
              "      <td>21729</td>\n",
              "    </tr>\n",
              "    <tr>\n",
              "      <th>2023-12</th>\n",
              "      <td>595835</td>\n",
              "      <td>26347</td>\n",
              "    </tr>\n",
              "  </tbody>\n",
              "</table>\n",
              "</div>\n",
              "      <button class=\"colab-df-convert\" onclick=\"convertToInteractive('df-87050007-5740-41c6-a25e-b39b08a19f02')\"\n",
              "              title=\"Convert this dataframe to an interactive table.\"\n",
              "              style=\"display:none;\">\n",
              "        \n",
              "  <svg xmlns=\"http://www.w3.org/2000/svg\" height=\"24px\"viewBox=\"0 0 24 24\"\n",
              "       width=\"24px\">\n",
              "    <path d=\"M0 0h24v24H0V0z\" fill=\"none\"/>\n",
              "    <path d=\"M18.56 5.44l.94 2.06.94-2.06 2.06-.94-2.06-.94-.94-2.06-.94 2.06-2.06.94zm-11 1L8.5 8.5l.94-2.06 2.06-.94-2.06-.94L8.5 2.5l-.94 2.06-2.06.94zm10 10l.94 2.06.94-2.06 2.06-.94-2.06-.94-.94-2.06-.94 2.06-2.06.94z\"/><path d=\"M17.41 7.96l-1.37-1.37c-.4-.4-.92-.59-1.43-.59-.52 0-1.04.2-1.43.59L10.3 9.45l-7.72 7.72c-.78.78-.78 2.05 0 2.83L4 21.41c.39.39.9.59 1.41.59.51 0 1.02-.2 1.41-.59l7.78-7.78 2.81-2.81c.8-.78.8-2.07 0-2.86zM5.41 20L4 18.59l7.72-7.72 1.47 1.35L5.41 20z\"/>\n",
              "  </svg>\n",
              "      </button>\n",
              "      \n",
              "  <style>\n",
              "    .colab-df-container {\n",
              "      display:flex;\n",
              "      flex-wrap:wrap;\n",
              "      gap: 12px;\n",
              "    }\n",
              "\n",
              "    .colab-df-convert {\n",
              "      background-color: #E8F0FE;\n",
              "      border: none;\n",
              "      border-radius: 50%;\n",
              "      cursor: pointer;\n",
              "      display: none;\n",
              "      fill: #1967D2;\n",
              "      height: 32px;\n",
              "      padding: 0 0 0 0;\n",
              "      width: 32px;\n",
              "    }\n",
              "\n",
              "    .colab-df-convert:hover {\n",
              "      background-color: #E2EBFA;\n",
              "      box-shadow: 0px 1px 2px rgba(60, 64, 67, 0.3), 0px 1px 3px 1px rgba(60, 64, 67, 0.15);\n",
              "      fill: #174EA6;\n",
              "    }\n",
              "\n",
              "    [theme=dark] .colab-df-convert {\n",
              "      background-color: #3B4455;\n",
              "      fill: #D2E3FC;\n",
              "    }\n",
              "\n",
              "    [theme=dark] .colab-df-convert:hover {\n",
              "      background-color: #434B5C;\n",
              "      box-shadow: 0px 1px 3px 1px rgba(0, 0, 0, 0.15);\n",
              "      filter: drop-shadow(0px 1px 2px rgba(0, 0, 0, 0.3));\n",
              "      fill: #FFFFFF;\n",
              "    }\n",
              "  </style>\n",
              "\n",
              "      <script>\n",
              "        const buttonEl =\n",
              "          document.querySelector('#df-87050007-5740-41c6-a25e-b39b08a19f02 button.colab-df-convert');\n",
              "        buttonEl.style.display =\n",
              "          google.colab.kernel.accessAllowed ? 'block' : 'none';\n",
              "\n",
              "        async function convertToInteractive(key) {\n",
              "          const element = document.querySelector('#df-87050007-5740-41c6-a25e-b39b08a19f02');\n",
              "          const dataTable =\n",
              "            await google.colab.kernel.invokeFunction('convertToInteractive',\n",
              "                                                     [key], {});\n",
              "          if (!dataTable) return;\n",
              "\n",
              "          const docLinkHtml = 'Like what you see? Visit the ' +\n",
              "            '<a target=\"_blank\" href=https://colab.research.google.com/notebooks/data_table.ipynb>data table notebook</a>'\n",
              "            + ' to learn more about interactive tables.';\n",
              "          element.innerHTML = '';\n",
              "          dataTable['output_type'] = 'display_data';\n",
              "          await google.colab.output.renderOutput(dataTable, element);\n",
              "          const docLink = document.createElement('div');\n",
              "          docLink.innerHTML = docLinkHtml;\n",
              "          element.appendChild(docLink);\n",
              "        }\n",
              "      </script>\n",
              "    </div>\n",
              "  </div>\n",
              "  "
            ]
          },
          "metadata": {},
          "execution_count": 10
        }
      ],
      "source": [
        "predictions = consumption_predict(model=LR, X=features, y=target, n_pred=13, only_pv_plan=True)\n",
        "predictions"
      ]
    }
  ],
  "metadata": {
    "kernelspec": {
      "display_name": "Python 3",
      "language": "python",
      "name": "python3"
    },
    "language_info": {
      "codemirror_mode": {
        "name": "ipython",
        "version": 3
      },
      "file_extension": ".py",
      "mimetype": "text/x-python",
      "name": "python",
      "nbconvert_exporter": "python",
      "pygments_lexer": "ipython3",
      "version": "3.7.0"
    },
    "colab": {
      "provenance": [],
      "collapsed_sections": [
        "l0ZChxug2qZh"
      ]
    }
  },
  "nbformat": 4,
  "nbformat_minor": 0
}
