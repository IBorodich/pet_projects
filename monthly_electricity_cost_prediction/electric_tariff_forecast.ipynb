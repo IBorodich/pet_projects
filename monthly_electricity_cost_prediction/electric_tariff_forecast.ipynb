{
  "nbformat": 4,
  "nbformat_minor": 0,
  "metadata": {
    "colab": {
      "provenance": [],
      "collapsed_sections": [
        "eMTbkkmr2Tlj",
        "jm2w4oYn1l02",
        "Jeqpq7xS2eyB"
      ]
    },
    "kernelspec": {
      "name": "python3",
      "display_name": "Python 3"
    },
    "language_info": {
      "name": "python"
    }
  },
  "cells": [
    {
      "cell_type": "markdown",
      "source": [
        "# Прогнозирование стоимости электроэнергии"
      ],
      "metadata": {
        "id": "wqKM2y042FTY"
      }
    },
    {
      "cell_type": "markdown",
      "source": [
        "## Установка и загрузка библиотек"
      ],
      "metadata": {
        "id": "eMTbkkmr2Tlj"
      }
    },
    {
      "cell_type": "code",
      "source": [
        "!pip install prophet"
      ],
      "metadata": {
        "id": "WdBM3ijHFHpJ",
        "colab": {
          "base_uri": "https://localhost:8080/"
        },
        "outputId": "a0111e25-a0dd-4f65-93e7-c90e4141f9d8"
      },
      "execution_count": null,
      "outputs": [
        {
          "output_type": "stream",
          "name": "stdout",
          "text": [
            "Looking in indexes: https://pypi.org/simple, https://us-python.pkg.dev/colab-wheels/public/simple/\n",
            "Requirement already satisfied: prophet in /usr/local/lib/python3.8/dist-packages (1.1.1)\n",
            "Requirement already satisfied: cmdstanpy>=1.0.4 in /usr/local/lib/python3.8/dist-packages (from prophet) (1.0.8)\n",
            "Requirement already satisfied: matplotlib>=2.0.0 in /usr/local/lib/python3.8/dist-packages (from prophet) (3.2.2)\n",
            "Requirement already satisfied: tqdm>=4.36.1 in /usr/local/lib/python3.8/dist-packages (from prophet) (4.64.1)\n",
            "Requirement already satisfied: LunarCalendar>=0.0.9 in /usr/local/lib/python3.8/dist-packages (from prophet) (0.0.9)\n",
            "Requirement already satisfied: holidays>=0.14.2 in /usr/local/lib/python3.8/dist-packages (from prophet) (0.17)\n",
            "Requirement already satisfied: wheel>=0.37.0 in /usr/local/lib/python3.8/dist-packages (from prophet) (0.38.4)\n",
            "Requirement already satisfied: numpy>=1.15.4 in /usr/local/lib/python3.8/dist-packages (from prophet) (1.21.6)\n",
            "Requirement already satisfied: pandas>=1.0.4 in /usr/local/lib/python3.8/dist-packages (from prophet) (1.3.5)\n",
            "Requirement already satisfied: python-dateutil>=2.8.0 in /usr/local/lib/python3.8/dist-packages (from prophet) (2.8.2)\n",
            "Requirement already satisfied: convertdate>=2.1.2 in /usr/local/lib/python3.8/dist-packages (from prophet) (2.4.0)\n",
            "Requirement already satisfied: setuptools>=42 in /usr/local/lib/python3.8/dist-packages (from prophet) (57.4.0)\n",
            "Requirement already satisfied: setuptools-git>=1.2 in /usr/local/lib/python3.8/dist-packages (from prophet) (1.2)\n",
            "Requirement already satisfied: pymeeus<=1,>=0.3.13 in /usr/local/lib/python3.8/dist-packages (from convertdate>=2.1.2->prophet) (0.5.11)\n",
            "Requirement already satisfied: hijri-converter in /usr/local/lib/python3.8/dist-packages (from holidays>=0.14.2->prophet) (2.2.4)\n",
            "Requirement already satisfied: korean-lunar-calendar in /usr/local/lib/python3.8/dist-packages (from holidays>=0.14.2->prophet) (0.3.1)\n",
            "Requirement already satisfied: ephem>=3.7.5.3 in /usr/local/lib/python3.8/dist-packages (from LunarCalendar>=0.0.9->prophet) (4.1.3)\n",
            "Requirement already satisfied: pytz in /usr/local/lib/python3.8/dist-packages (from LunarCalendar>=0.0.9->prophet) (2022.6)\n",
            "Requirement already satisfied: cycler>=0.10 in /usr/local/lib/python3.8/dist-packages (from matplotlib>=2.0.0->prophet) (0.11.0)\n",
            "Requirement already satisfied: pyparsing!=2.0.4,!=2.1.2,!=2.1.6,>=2.0.1 in /usr/local/lib/python3.8/dist-packages (from matplotlib>=2.0.0->prophet) (3.0.9)\n",
            "Requirement already satisfied: kiwisolver>=1.0.1 in /usr/local/lib/python3.8/dist-packages (from matplotlib>=2.0.0->prophet) (1.4.4)\n",
            "Requirement already satisfied: six>=1.5 in /usr/local/lib/python3.8/dist-packages (from python-dateutil>=2.8.0->prophet) (1.15.0)\n"
          ]
        }
      ]
    },
    {
      "cell_type": "code",
      "source": [
        "import pandas as pd\n",
        "import numpy as np\n",
        "from prophet import Prophet\n",
        "from sklearn.metrics import mean_absolute_error"
      ],
      "metadata": {
        "id": "fqmC5YU9E3SJ"
      },
      "execution_count": null,
      "outputs": []
    },
    {
      "cell_type": "markdown",
      "source": [
        "## Вспомогательные функции"
      ],
      "metadata": {
        "id": "jm2w4oYn1l02"
      }
    },
    {
      "cell_type": "markdown",
      "source": [
        "`mape` - функция для расчета средней абсолютной ошибки в процентах."
      ],
      "metadata": {
        "id": "zakIDcbM1sF4"
      }
    },
    {
      "cell_type": "code",
      "source": [
        "def mape(y_target, y_pred):\n",
        "    return np.mean(np.abs(y_target - y_pred) / y_target)"
      ],
      "metadata": {
        "id": "Qghpe_3jUCaY"
      },
      "execution_count": null,
      "outputs": []
    },
    {
      "cell_type": "markdown",
      "source": [
        "`tariffs_forecast` - функция для прогнозирования стоимости электроэнергии, где:\n",
        "- `fc_period` - количество месяцев для прогнозирования;\n",
        "- `shift` - количество месяцев с отсутствующим значением тарифа (насколько месяцев необходимо сдвинуть назад обучающую выборку);\n",
        "- `train_depth` - количество месяцев для обучения."
      ],
      "metadata": {
        "id": "7IpbUdYvDxK5"
      }
    },
    {
      "cell_type": "code",
      "source": [
        "def tariffs_forecast(data, fc_period, shift=0, train_depth=60):\n",
        "    start = fc_period + shift + train_depth\n",
        "    end = fc_period + shift\n",
        "    train = data.iloc[-start:-end]\n",
        "    \n",
        "    model = Prophet().fit(train)\n",
        "    future = model.make_future_dataframe(periods=end, freq='MS')\n",
        "    forecast = model.predict(future)\n",
        "\n",
        "    print('\\n-----------------------------------------------------------------')\n",
        "\n",
        "    display(forecast[['ds', 'yhat', 'yhat_lower', 'yhat_upper']].tail(fc_period))\n",
        "\n",
        "    comparison = train.copy()\n",
        "    comparison = comparison.merge(forecast[['ds', 'yhat']])\n",
        "    MAE = mean_absolute_error(comparison['y'], comparison['yhat']) * 100\n",
        "    MAPE = mape(comparison['y'], comparison['yhat'])\n",
        "    print(f'\\nСредняя абсолютная ошибка на исторических данных: {MAE:.1f} коп. / {MAPE:.1%}\\n')\n",
        "    \n",
        "    fig = model.plot(forecast)"
      ],
      "metadata": {
        "id": "hBthbCma3GY6"
      },
      "execution_count": null,
      "outputs": []
    },
    {
      "cell_type": "markdown",
      "source": [
        "## Загрузка и подготовка данных"
      ],
      "metadata": {
        "id": "Jeqpq7xS2eyB"
      }
    },
    {
      "cell_type": "code",
      "source": [
        "ts = pd.read_excel('electricity_consumption.xlsx', sheet_name='tariff', usecols=['period', 'tariff_fact'])\n",
        "ts['period'] = pd.to_datetime(ts['period'])\n",
        "ts = ts.rename(columns={'period': 'ds', 'tariff_fact': 'y'})"
      ],
      "metadata": {
        "id": "k5gSpAoAFFIm"
      },
      "execution_count": null,
      "outputs": []
    },
    {
      "cell_type": "markdown",
      "source": [
        "## Прогнозирование"
      ],
      "metadata": {
        "id": "eV41ynA_CNxQ"
      }
    },
    {
      "cell_type": "code",
      "source": [
        "tariffs_forecast(data=ts, fc_period=13, shift=1, train_depth=60)"
      ],
      "metadata": {
        "id": "am8NlT-odwJ1",
        "colab": {
          "base_uri": "https://localhost:8080/",
          "height": 1000
        },
        "outputId": "80e133ff-c0c9-48b9-c6c0-1861bdfd9e6b"
      },
      "execution_count": null,
      "outputs": [
        {
          "output_type": "stream",
          "name": "stderr",
          "text": [
            "INFO:prophet:Disabling weekly seasonality. Run prophet with weekly_seasonality=True to override this.\n",
            "INFO:prophet:Disabling daily seasonality. Run prophet with daily_seasonality=True to override this.\n",
            "DEBUG:cmdstanpy:input tempfile: /tmp/tmpxk3tegsu/ztxrw5gn.json\n",
            "DEBUG:cmdstanpy:input tempfile: /tmp/tmpxk3tegsu/ll1nru74.json\n",
            "DEBUG:cmdstanpy:idx 0\n",
            "DEBUG:cmdstanpy:running CmdStan, num_threads: None\n",
            "DEBUG:cmdstanpy:CmdStan args: ['/usr/local/lib/python3.8/dist-packages/prophet/stan_model/prophet_model.bin', 'random', 'seed=47977', 'data', 'file=/tmp/tmpxk3tegsu/ztxrw5gn.json', 'init=/tmp/tmpxk3tegsu/ll1nru74.json', 'output', 'file=/tmp/tmpxk3tegsu/prophet_model5eleytab/prophet_model-20221205041835.csv', 'method=optimize', 'algorithm=newton', 'iter=10000']\n",
            "04:18:35 - cmdstanpy - INFO - Chain [1] start processing\n",
            "INFO:cmdstanpy:Chain [1] start processing\n",
            "04:18:36 - cmdstanpy - INFO - Chain [1] done processing\n",
            "INFO:cmdstanpy:Chain [1] done processing\n"
          ]
        },
        {
          "output_type": "stream",
          "name": "stdout",
          "text": [
            "\n",
            "-----------------------------------------------------------------\n"
          ]
        },
        {
          "output_type": "display_data",
          "data": {
            "text/plain": [
              "           ds      yhat  yhat_lower  yhat_upper\n",
              "61 2022-12-01  3.566999    3.493099    3.644158\n",
              "62 2023-01-01  3.774548    3.697348    3.854538\n",
              "63 2023-02-01  3.708652    3.631429    3.788754\n",
              "64 2023-03-01  3.645807    3.563709    3.727255\n",
              "65 2023-04-01  3.671044    3.587708    3.747363\n",
              "66 2023-05-01  3.684133    3.603638    3.759397\n",
              "67 2023-06-01  3.669559    3.593058    3.747279\n",
              "68 2023-07-01  3.647843    3.566326    3.724533\n",
              "69 2023-08-01  3.645428    3.570623    3.724291\n",
              "70 2023-09-01  3.860316    3.783787    3.942991\n",
              "71 2023-10-01  3.862848    3.780641    3.945556\n",
              "72 2023-11-01  3.886345    3.810740    3.970140\n",
              "73 2023-12-01  3.930100    3.847511    4.011827"
            ],
            "text/html": [
              "\n",
              "  <div id=\"df-5315224b-5b08-4e55-89c4-4532c7b41e7b\">\n",
              "    <div class=\"colab-df-container\">\n",
              "      <div>\n",
              "<style scoped>\n",
              "    .dataframe tbody tr th:only-of-type {\n",
              "        vertical-align: middle;\n",
              "    }\n",
              "\n",
              "    .dataframe tbody tr th {\n",
              "        vertical-align: top;\n",
              "    }\n",
              "\n",
              "    .dataframe thead th {\n",
              "        text-align: right;\n",
              "    }\n",
              "</style>\n",
              "<table border=\"1\" class=\"dataframe\">\n",
              "  <thead>\n",
              "    <tr style=\"text-align: right;\">\n",
              "      <th></th>\n",
              "      <th>ds</th>\n",
              "      <th>yhat</th>\n",
              "      <th>yhat_lower</th>\n",
              "      <th>yhat_upper</th>\n",
              "    </tr>\n",
              "  </thead>\n",
              "  <tbody>\n",
              "    <tr>\n",
              "      <th>61</th>\n",
              "      <td>2022-12-01</td>\n",
              "      <td>3.566999</td>\n",
              "      <td>3.493099</td>\n",
              "      <td>3.644158</td>\n",
              "    </tr>\n",
              "    <tr>\n",
              "      <th>62</th>\n",
              "      <td>2023-01-01</td>\n",
              "      <td>3.774548</td>\n",
              "      <td>3.697348</td>\n",
              "      <td>3.854538</td>\n",
              "    </tr>\n",
              "    <tr>\n",
              "      <th>63</th>\n",
              "      <td>2023-02-01</td>\n",
              "      <td>3.708652</td>\n",
              "      <td>3.631429</td>\n",
              "      <td>3.788754</td>\n",
              "    </tr>\n",
              "    <tr>\n",
              "      <th>64</th>\n",
              "      <td>2023-03-01</td>\n",
              "      <td>3.645807</td>\n",
              "      <td>3.563709</td>\n",
              "      <td>3.727255</td>\n",
              "    </tr>\n",
              "    <tr>\n",
              "      <th>65</th>\n",
              "      <td>2023-04-01</td>\n",
              "      <td>3.671044</td>\n",
              "      <td>3.587708</td>\n",
              "      <td>3.747363</td>\n",
              "    </tr>\n",
              "    <tr>\n",
              "      <th>66</th>\n",
              "      <td>2023-05-01</td>\n",
              "      <td>3.684133</td>\n",
              "      <td>3.603638</td>\n",
              "      <td>3.759397</td>\n",
              "    </tr>\n",
              "    <tr>\n",
              "      <th>67</th>\n",
              "      <td>2023-06-01</td>\n",
              "      <td>3.669559</td>\n",
              "      <td>3.593058</td>\n",
              "      <td>3.747279</td>\n",
              "    </tr>\n",
              "    <tr>\n",
              "      <th>68</th>\n",
              "      <td>2023-07-01</td>\n",
              "      <td>3.647843</td>\n",
              "      <td>3.566326</td>\n",
              "      <td>3.724533</td>\n",
              "    </tr>\n",
              "    <tr>\n",
              "      <th>69</th>\n",
              "      <td>2023-08-01</td>\n",
              "      <td>3.645428</td>\n",
              "      <td>3.570623</td>\n",
              "      <td>3.724291</td>\n",
              "    </tr>\n",
              "    <tr>\n",
              "      <th>70</th>\n",
              "      <td>2023-09-01</td>\n",
              "      <td>3.860316</td>\n",
              "      <td>3.783787</td>\n",
              "      <td>3.942991</td>\n",
              "    </tr>\n",
              "    <tr>\n",
              "      <th>71</th>\n",
              "      <td>2023-10-01</td>\n",
              "      <td>3.862848</td>\n",
              "      <td>3.780641</td>\n",
              "      <td>3.945556</td>\n",
              "    </tr>\n",
              "    <tr>\n",
              "      <th>72</th>\n",
              "      <td>2023-11-01</td>\n",
              "      <td>3.886345</td>\n",
              "      <td>3.810740</td>\n",
              "      <td>3.970140</td>\n",
              "    </tr>\n",
              "    <tr>\n",
              "      <th>73</th>\n",
              "      <td>2023-12-01</td>\n",
              "      <td>3.930100</td>\n",
              "      <td>3.847511</td>\n",
              "      <td>4.011827</td>\n",
              "    </tr>\n",
              "  </tbody>\n",
              "</table>\n",
              "</div>\n",
              "      <button class=\"colab-df-convert\" onclick=\"convertToInteractive('df-5315224b-5b08-4e55-89c4-4532c7b41e7b')\"\n",
              "              title=\"Convert this dataframe to an interactive table.\"\n",
              "              style=\"display:none;\">\n",
              "        \n",
              "  <svg xmlns=\"http://www.w3.org/2000/svg\" height=\"24px\"viewBox=\"0 0 24 24\"\n",
              "       width=\"24px\">\n",
              "    <path d=\"M0 0h24v24H0V0z\" fill=\"none\"/>\n",
              "    <path d=\"M18.56 5.44l.94 2.06.94-2.06 2.06-.94-2.06-.94-.94-2.06-.94 2.06-2.06.94zm-11 1L8.5 8.5l.94-2.06 2.06-.94-2.06-.94L8.5 2.5l-.94 2.06-2.06.94zm10 10l.94 2.06.94-2.06 2.06-.94-2.06-.94-.94-2.06-.94 2.06-2.06.94z\"/><path d=\"M17.41 7.96l-1.37-1.37c-.4-.4-.92-.59-1.43-.59-.52 0-1.04.2-1.43.59L10.3 9.45l-7.72 7.72c-.78.78-.78 2.05 0 2.83L4 21.41c.39.39.9.59 1.41.59.51 0 1.02-.2 1.41-.59l7.78-7.78 2.81-2.81c.8-.78.8-2.07 0-2.86zM5.41 20L4 18.59l7.72-7.72 1.47 1.35L5.41 20z\"/>\n",
              "  </svg>\n",
              "      </button>\n",
              "      \n",
              "  <style>\n",
              "    .colab-df-container {\n",
              "      display:flex;\n",
              "      flex-wrap:wrap;\n",
              "      gap: 12px;\n",
              "    }\n",
              "\n",
              "    .colab-df-convert {\n",
              "      background-color: #E8F0FE;\n",
              "      border: none;\n",
              "      border-radius: 50%;\n",
              "      cursor: pointer;\n",
              "      display: none;\n",
              "      fill: #1967D2;\n",
              "      height: 32px;\n",
              "      padding: 0 0 0 0;\n",
              "      width: 32px;\n",
              "    }\n",
              "\n",
              "    .colab-df-convert:hover {\n",
              "      background-color: #E2EBFA;\n",
              "      box-shadow: 0px 1px 2px rgba(60, 64, 67, 0.3), 0px 1px 3px 1px rgba(60, 64, 67, 0.15);\n",
              "      fill: #174EA6;\n",
              "    }\n",
              "\n",
              "    [theme=dark] .colab-df-convert {\n",
              "      background-color: #3B4455;\n",
              "      fill: #D2E3FC;\n",
              "    }\n",
              "\n",
              "    [theme=dark] .colab-df-convert:hover {\n",
              "      background-color: #434B5C;\n",
              "      box-shadow: 0px 1px 3px 1px rgba(0, 0, 0, 0.15);\n",
              "      filter: drop-shadow(0px 1px 2px rgba(0, 0, 0, 0.3));\n",
              "      fill: #FFFFFF;\n",
              "    }\n",
              "  </style>\n",
              "\n",
              "      <script>\n",
              "        const buttonEl =\n",
              "          document.querySelector('#df-5315224b-5b08-4e55-89c4-4532c7b41e7b button.colab-df-convert');\n",
              "        buttonEl.style.display =\n",
              "          google.colab.kernel.accessAllowed ? 'block' : 'none';\n",
              "\n",
              "        async function convertToInteractive(key) {\n",
              "          const element = document.querySelector('#df-5315224b-5b08-4e55-89c4-4532c7b41e7b');\n",
              "          const dataTable =\n",
              "            await google.colab.kernel.invokeFunction('convertToInteractive',\n",
              "                                                     [key], {});\n",
              "          if (!dataTable) return;\n",
              "\n",
              "          const docLinkHtml = 'Like what you see? Visit the ' +\n",
              "            '<a target=\"_blank\" href=https://colab.research.google.com/notebooks/data_table.ipynb>data table notebook</a>'\n",
              "            + ' to learn more about interactive tables.';\n",
              "          element.innerHTML = '';\n",
              "          dataTable['output_type'] = 'display_data';\n",
              "          await google.colab.output.renderOutput(dataTable, element);\n",
              "          const docLink = document.createElement('div');\n",
              "          docLink.innerHTML = docLinkHtml;\n",
              "          element.appendChild(docLink);\n",
              "        }\n",
              "      </script>\n",
              "    </div>\n",
              "  </div>\n",
              "  "
            ]
          },
          "metadata": {}
        },
        {
          "output_type": "stream",
          "name": "stdout",
          "text": [
            "\n",
            "Средняя абсолютная ошибка на исторических данных: 5.0 коп. / 1.7%\n",
            "\n"
          ]
        },
        {
          "output_type": "display_data",
          "data": {
            "text/plain": [
              "<Figure size 720x432 with 1 Axes>"
            ],
            "image/png": "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\n"
          },
          "metadata": {}
        }
}
